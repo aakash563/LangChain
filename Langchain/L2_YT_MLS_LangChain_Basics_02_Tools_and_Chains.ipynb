{
 "cells": [
  {
   "cell_type": "markdown",
   "metadata": {
    "id": "XoJ-RGiUo-uJ"
   },
   "source": [
    "# Langchain: Tools & Chains"
   ]
  },
  {
   "cell_type": "code",
   "execution_count": null,
   "metadata": {
    "colab": {
     "base_uri": "https://localhost:8080/"
    },
    "id": "8RSTxnoIozRN",
    "outputId": "7816f95c-55cf-431e-e139-f396070a258d"
   },
   "outputs": [
    {
     "name": "stdout",
     "output_type": "stream",
     "text": [
      "\u001b[2K     \u001b[90m━━━━━━━━━━━━━━━━━━━━━━━━━━━━━━━━━━━━━━━━\u001b[0m \u001b[32m220.2/220.2 kB\u001b[0m \u001b[31m3.8 MB/s\u001b[0m eta \u001b[36m0:00:00\u001b[0m\n",
      "\u001b[2K     \u001b[90m━━━━━━━━━━━━━━━━━━━━━━━━━━━━━━━━━━━━━━━━\u001b[0m \u001b[32m2.0/2.0 MB\u001b[0m \u001b[31m36.2 MB/s\u001b[0m eta \u001b[36m0:00:00\u001b[0m\n",
      "\u001b[2K     \u001b[90m━━━━━━━━━━━━━━━━━━━━━━━━━━━━━━━━━━━━━━━━\u001b[0m \u001b[32m311.1/311.1 kB\u001b[0m \u001b[31m28.7 MB/s\u001b[0m eta \u001b[36m0:00:00\u001b[0m\n",
      "\u001b[2K     \u001b[90m━━━━━━━━━━━━━━━━━━━━━━━━━━━━━━━━━━━━━━━━\u001b[0m \u001b[32m75.0/75.0 kB\u001b[0m \u001b[31m8.9 MB/s\u001b[0m eta \u001b[36m0:00:00\u001b[0m\n",
      "\u001b[2K     \u001b[90m━━━━━━━━━━━━━━━━━━━━━━━━━━━━━━━━━━━━━━━━\u001b[0m \u001b[32m45.5/45.5 kB\u001b[0m \u001b[31m4.1 MB/s\u001b[0m eta \u001b[36m0:00:00\u001b[0m\n",
      "\u001b[2K     \u001b[90m━━━━━━━━━━━━━━━━━━━━━━━━━━━━━━━━━━━━━━━━\u001b[0m \u001b[32m49.4/49.4 kB\u001b[0m \u001b[31m3.1 MB/s\u001b[0m eta \u001b[36m0:00:00\u001b[0m\n",
      "\u001b[2K     \u001b[90m━━━━━━━━━━━━━━━━━━━━━━━━━━━━━━━━━━━━━━━━\u001b[0m \u001b[32m76.9/76.9 kB\u001b[0m \u001b[31m8.7 MB/s\u001b[0m eta \u001b[36m0:00:00\u001b[0m\n",
      "\u001b[2K     \u001b[90m━━━━━━━━━━━━━━━━━━━━━━━━━━━━━━━━━━━━━━━━\u001b[0m \u001b[32m58.3/58.3 kB\u001b[0m \u001b[31m5.6 MB/s\u001b[0m eta \u001b[36m0:00:00\u001b[0m\n",
      "\u001b[?25h\u001b[31mERROR: pip's dependency resolver does not currently take into account all the packages that are installed. This behaviour is the source of the following dependency conflicts.\n",
      "llmx 0.0.15a0 requires cohere, which is not installed.\n",
      "llmx 0.0.15a0 requires tiktoken, which is not installed.\u001b[0m\u001b[31m\n",
      "\u001b[0m"
     ]
    }
   ],
   "source": [
    "!pip -q install openai langchain huggingface_hub"
   ]
  },
  {
   "cell_type": "code",
   "execution_count": null,
   "metadata": {
    "id": "9iIacDfgpB2M"
   },
   "outputs": [],
   "source": [
    "import os\n",
    "\n",
    "os.environ['OPENAI_API_KEY'] = ''\n",
    "os.environ['HUGGINGFACEHUB_API_TOKEN'] = ''"
   ]
  },
  {
   "cell_type": "code",
   "execution_count": null,
   "metadata": {
    "id": "ktJiR23xQz6a"
   },
   "outputs": [],
   "source": []
  },
  {
   "cell_type": "markdown",
   "metadata": {
    "id": "-KB9qA8bpxgJ"
   },
   "source": [
    "## Basic LLMChain - Fact Extraction"
   ]
  },
  {
   "cell_type": "code",
   "execution_count": null,
   "metadata": {
    "id": "-lzO5PfUpwfv"
   },
   "outputs": [],
   "source": [
    "from langchain.prompts import PromptTemplate\n",
    "from langchain.llms import OpenAI\n",
    "from langchain.chains import LLMChain"
   ]
  },
  {
   "cell_type": "code",
   "execution_count": null,
   "metadata": {
    "id": "sTiEn3tKp7mZ"
   },
   "outputs": [],
   "source": [
    "llm = OpenAI(model_name='text-davinci-003',\n",
    "             temperature=0,\n",
    "             max_tokens = 256)"
   ]
  },
  {
   "cell_type": "code",
   "execution_count": null,
   "metadata": {
    "id": "WCBfxD4cqXsx"
   },
   "outputs": [],
   "source": [
    "article = '''Coinbase, the second-largest crypto exchange by trading volume, released its Q4 2022 earnings on Tuesday, giving shareholders and market players alike an updated look into its financials. In response to the report, the company's shares are down modestly in early after-hours trading.In the fourth quarter of 2022, Coinbase generated $605 million in total revenue, down sharply from $2.49 billion in the year-ago quarter. Coinbase's top line was not enough to cover its expenses: The company lost $557 million in the three-month period on a GAAP basis (net income) worth -$2.46 per share, and an adjusted EBITDA deficit of $124 million.Wall Street expected Coinbase to report $581.2 million in revenue and earnings per share of -$2.44 with adjusted EBITDA of -$201.8 million driven by 8.4 million monthly transaction users (MTUs), according to data provided by Yahoo Finance.Before its Q4 earnings were released, Coinbase's stock had risen 86% year-to-date. Even with that rally, the value of Coinbase when measured on a per-share basis is still down significantly from its 52-week high of $206.79.That Coinbase beat revenue expectations is notable in that it came with declines in trading volume; Coinbase historically generated the bulk of its revenues from trading fees, making Q4 2022 notable. Consumer trading volumes fell from $26 billion in the third quarter of last year to $20 billion in Q4, while institutional volumes across the same timeframe fell from $133 billion to $125 billion.The overall crypto market capitalization fell about 64%, or $1.5 trillion during 2022, which resulted in Coinbase's total trading volumes and transaction revenues to fall 50% and 66% year-over-year, respectively, the company reported.As you would expect with declines in trading volume, trading revenue at Coinbase fell in Q4 compared to the third quarter of last year, dipping from $365.9 million to $322.1 million. (TechCrunch is comparing Coinbase's Q4 2022 results to Q3 2022 instead of Q4 2021, as the latter comparison would be less useful given how much the crypto market has changed in the last year; we're all aware that overall crypto activity has fallen from the final months of 2021.)There were bits of good news in the Coinbase report. While Coinbase's trading revenues were less than exuberant, the company's other revenues posted gains. What Coinbase calls its \"subscription and services revenue\" rose from $210.5 million in Q3 2022 to $282.8 million in Q4 of the same year, a gain of just over 34% in a single quarter.And even as the crypto industry faced a number of catastrophic events, including the Terra/LUNA and FTX collapses to name a few, there was still growth in other areas. The monthly active developers in crypto have more than doubled since 2020 to over 20,000, while major brands like Starbucks, Nike and Adidas have dived into the space alongside social media platforms like Instagram and Reddit.With big players getting into crypto, industry players are hoping this move results in greater adoption both for product use cases and trading volumes. Although there was a lot of movement from traditional retail markets and Web 2.0 businesses, trading volume for both consumer and institutional users fell quarter-over-quarter for Coinbase.Looking forward, it'll be interesting to see if these pieces pick back up and trading interest reemerges in 2023, or if platforms like Coinbase will have to keep looking elsewhere for revenue (like its subscription service) if users continue to shy away from the market.\n",
    "'''"
   ]
  },
  {
   "cell_type": "code",
   "execution_count": null,
   "metadata": {
    "colab": {
     "base_uri": "https://localhost:8080/"
    },
    "id": "eMnYNdKIjJiq",
    "outputId": "197919ce-421b-4184-9f5c-7dd6a56faf36"
   },
   "outputs": [
    {
     "data": {
      "text/plain": [
       "3533"
      ]
     },
     "execution_count": 26,
     "metadata": {},
     "output_type": "execute_result"
    }
   ],
   "source": [
    "len(article)"
   ]
  },
  {
   "cell_type": "code",
   "execution_count": null,
   "metadata": {
    "id": "qYPq1mrSfVTt"
   },
   "outputs": [],
   "source": [
    "fact_extraction_prompt = PromptTemplate(\n",
    "    input_variables=[\"text_input\"],\n",
    "    template=\"Extract the key facts out of this text. Don't include opinions. Give each fact a number and keep them short sentences. :\\n\\n {text_input}\"\n",
    ")"
   ]
  },
  {
   "cell_type": "code",
   "execution_count": null,
   "metadata": {
    "colab": {
     "base_uri": "https://localhost:8080/"
    },
    "id": "RmumMw1mfweL",
    "outputId": "0ac96603-b5f5-4163-9484-a666a12f7eae"
   },
   "outputs": [
    {
     "name": "stdout",
     "output_type": "stream",
     "text": [
      "\n",
      "1. Coinbase released its Q4 2022 earnings on Tuesday.\n",
      "2. Coinbase generated $605 million in total revenue in Q4 2022.\n",
      "3. Coinbase lost $557 million in the three-month period on a GAAP basis.\n",
      "4. Wall Street expected Coinbase to report $581.2 million in revenue.\n",
      "5. Coinbase's stock had risen 86% year-to-date before its Q4 earnings were released.\n",
      "6. Consumer trading volumes fell from $26 billion in Q3 2022 to $20 billion in Q4 2022.\n",
      "7. Institutional volumes across the same timeframe fell from $133 billion to $125 billion.\n",
      "8. The overall crypto market capitalization fell about 64%, or $1.5 trillion during 2022.\n",
      "9. Coinbase's total trading volumes and transaction revenues fell 50% and 66% year-over-year, respectively.\n",
      "10. Trading revenue at Coinbase fell from $365.9 million in Q3 2022 to $322.1 million in Q4 2022.\n",
      "11. Coinbase's \"subscription and services revenue\" rose from $210.5 million in Q3 2022 to $282.8 million in Q4 2022.\n",
      "12. Monthly active developers in crypto have more than doubled since\n"
     ]
    }
   ],
   "source": [
    "fact_extraction_chain = LLMChain(llm=llm, prompt=fact_extraction_prompt)\n",
    "\n",
    "facts = fact_extraction_chain.run(article)\n",
    "\n",
    "print(facts)"
   ]
  },
  {
   "cell_type": "code",
   "execution_count": null,
   "metadata": {
    "colab": {
     "base_uri": "https://localhost:8080/"
    },
    "id": "rByDz-oxlA6j",
    "outputId": "a62d6f85-5674-4a17-eaee-1c8b1274fff4"
   },
   "outputs": [
    {
     "name": "stdout",
     "output_type": "stream",
     "text": [
      "\n",
      "1. Coinbase released its Q4 2022 earnings on Tuesday.\n",
      "2. Coinbase generated $605 million in total revenue in Q4 2022.\n",
      "3. Coinbase lost $557 million in the three-month period on a GAAP basis.\n",
      "4. Wall Street expected Coinbase to report $581.2 million in revenue.\n",
      "5. Coinbase's stock had risen 86% year-to-date before its Q4 earnings were released.\n",
      "6. Consumer trading volumes fell from $26 billion in Q3 2022 to $20 billion in Q4 2022.\n",
      "7. Institutional volumes across the same timeframe fell from $133 billion to $125 billion.\n",
      "8. The overall crypto market capitalization fell about 64%, or $1.5 trillion during 2022.\n",
      "9. Coinbase's total trading volumes and transaction revenues fell 50% and 66% year-over-year, respectively.\n",
      "10. Trading revenue at Coinbase fell from $365.9 million in Q3 2022 to $322.1 million in Q4 2022.\n",
      "11. Coinbase's \"subscription and services revenue\" rose from $210.5 million in Q3 2022 to $282.8 million in Q4 2022.\n",
      "12. Monthly active developers in crypto have more than doubled since\n"
     ]
    }
   ],
   "source": [
    "print(facts)"
   ]
  },
  {
   "cell_type": "markdown",
   "metadata": {
    "id": "YR2JtDm0hs03"
   },
   "source": [
    "## Rewrite as a summary from the facts"
   ]
  },
  {
   "cell_type": "code",
   "execution_count": null,
   "metadata": {
    "id": "nG--CuMJh1Gi"
   },
   "outputs": [],
   "source": [
    "investor_update_prompt = PromptTemplate(\n",
    "    input_variables=[\"facts\"],\n",
    "    template=\"You are a Goldman Sachs analyst. Take the following list of facts and use them to write a short paragrah for investors. Don't leave out key info:\\n\\n {facts}\"\n",
    ")"
   ]
  },
  {
   "cell_type": "code",
   "execution_count": null,
   "metadata": {
    "colab": {
     "base_uri": "https://localhost:8080/"
    },
    "id": "1rJu6HOoh1Gi",
    "outputId": "a73a554c-5e7a-428f-c79a-a0b80f133f13"
   },
   "outputs": [
    {
     "name": "stdout",
     "output_type": "stream",
     "text": [
      " the start of 2022.\n",
      "\n",
      "Coinbase released its Q4 2022 earnings on Tuesday, reporting total revenue of $605 million, which was slightly above Wall Street's expectations of $581.2 million. Despite the positive revenue figure, Coinbase reported a GAAP loss of $557 million in the three-month period. Coinbase's stock had risen 86% year-to-date before its Q4 earnings were released. Consumer trading volumes fell from $26 billion in Q3 2022 to $20 billion in Q4 2022, while institutional volumes across the same timeframe fell from $133 billion to $125 billion. The overall crypto market capitalization fell about 64%, or $1.5 trillion during 2022, leading to a 50% and 66% year-over-year decline in Coinbase's total trading volumes and transaction revenues, respectively. Trading revenue at Coinbase fell from $365.9 million in Q3 2022 to $322.1 million in Q4 2022, while its \"subscription and services revenue\" rose from $210.5 million in Q3 2022 to $282.8 million in Q4 2022. Despite the overall decline in the crypto market, monthly active developers in crypto have more than doubled since the start of 2022.\n"
     ]
    },
    {
     "data": {
      "text/plain": [
       "1105"
      ]
     },
     "execution_count": 31,
     "metadata": {},
     "output_type": "execute_result"
    }
   ],
   "source": [
    "investor_update_chain = LLMChain(llm=llm, prompt=investor_update_prompt)\n",
    "\n",
    "investor_update = investor_update_chain.run(facts)\n",
    "\n",
    "print(investor_update)\n",
    "len(investor_update)"
   ]
  },
  {
   "cell_type": "code",
   "execution_count": null,
   "metadata": {
    "id": "uCEfXHyFi-K8"
   },
   "outputs": [],
   "source": []
  },
  {
   "cell_type": "code",
   "execution_count": null,
   "metadata": {
    "id": "mQ2TNW1emNHu"
   },
   "outputs": [],
   "source": [
    "triples_prompt = PromptTemplate(\n",
    "    input_variables=[\"facts\"],\n",
    "    template=\"Take the following list of facts and turn them into triples for a knowledge graph:\\n\\n {facts}\"\n",
    ")"
   ]
  },
  {
   "cell_type": "code",
   "execution_count": null,
   "metadata": {
    "colab": {
     "base_uri": "https://localhost:8080/"
    },
    "id": "ZWyFFkDomNH5",
    "outputId": "5c29fea8-2bf6-4946-fe72-9e6766dacebb"
   },
   "outputs": [
    {
     "name": "stdout",
     "output_type": "stream",
     "text": [
      " the start of 2022.\n",
      "\n",
      "1. (Coinbase, released, Q4 2022 earnings)\n",
      "2. (Coinbase, generated, $605 million total revenue)\n",
      "3. (Coinbase, lost, $557 million GAAP basis)\n",
      "4. (Wall Street, expected, $581.2 million revenue)\n",
      "5. (Coinbase's stock, risen, 86% year-to-date)\n",
      "6. (Consumer trading volumes, fell, $26 billion Q3 2022)\n",
      "7. (Institutional volumes, fell, $133 billion)\n",
      "8. (Overall crypto market capitalization, fell, $1.5 trillion)\n",
      "9. (Coinbase's total trading volumes, fell, 50% year-over-year)\n",
      "10. (Coinbase's transaction revenues, fell, 66% year-over-year)\n",
      "11. (Trading revenue, fell, $365.9 million Q3 2022)\n",
      "12. (Coinbase's subscription and services revenue, rose, $210.5 million Q3 2022)\n",
      "13. (Monthly active developers, more than doubled, since start of 2022)\n"
     ]
    },
    {
     "data": {
      "text/plain": [
       "758"
      ]
     },
     "execution_count": 33,
     "metadata": {},
     "output_type": "execute_result"
    }
   ],
   "source": [
    "triples_chain = LLMChain(llm=llm, prompt=triples_prompt)\n",
    "\n",
    "triples = triples_chain.run(facts)\n",
    "\n",
    "print(triples)\n",
    "len(triples)"
   ]
  },
  {
   "cell_type": "markdown",
   "metadata": {
    "id": "-FNzbLpWnRy4"
   },
   "source": [
    "## Chaining these together"
   ]
  },
  {
   "cell_type": "code",
   "execution_count": null,
   "metadata": {
    "id": "XZLtU9O-nVya"
   },
   "outputs": [],
   "source": [
    "from langchain.chains import SimpleSequentialChain, SequentialChain\n",
    "\n",
    "full_chain = SimpleSequentialChain(chains=[fact_extraction_chain, investor_update_chain], verbose=False)"
   ]
  },
  {
   "cell_type": "code",
   "execution_count": null,
   "metadata": {
    "id": "fomCgIYCnsQA"
   },
   "outputs": [],
   "source": [
    "response = full_chain.run(article)"
   ]
  },
  {
   "cell_type": "code",
   "execution_count": null,
   "metadata": {
    "colab": {
     "base_uri": "https://localhost:8080/",
     "height": 140
    },
    "id": "8fGYacnpoYP7",
    "outputId": "9395f22f-cd5c-48d9-c7a7-45e693c0eebe"
   },
   "outputs": [
    {
     "data": {
      "application/vnd.google.colaboratory.intrinsic+json": {
       "type": "string"
      },
      "text/plain": [
       "' the start of 2022.\\n\\nCoinbase released its Q4 2022 earnings on Tuesday, reporting total revenue of $605 million, which was slightly above Wall Street\\'s expectations of $581.2 million. Despite the positive revenue figure, Coinbase reported a GAAP loss of $557 million in the three-month period. Coinbase\\'s stock had risen 86% year-to-date before its Q4 earnings were released. Consumer trading volumes fell from $26 billion in Q3 2022 to $20 billion in Q4 2022, while institutional volumes across the same timeframe fell from $133 billion to $125 billion. The overall crypto market capitalization fell about 64%, or $1.5 trillion during 2022, leading to a 50% and 66% year-over-year decline in Coinbase\\'s total trading volumes and transaction revenues, respectively. Trading revenue at Coinbase fell from $365.9 million in Q3 2022 to $322.1 million in Q4 2022, while its \"subscription and services revenue\" rose from $210.5 million in Q3 2022 to $282.8 million in Q4 2022. Despite the overall decline in the crypto market, monthly active developers in crypto have more than doubled since the start of 2022.'"
      ]
     },
     "execution_count": 38,
     "metadata": {},
     "output_type": "execute_result"
    }
   ],
   "source": [
    "response"
   ]
  },
  {
   "cell_type": "markdown",
   "metadata": {
    "id": "2l3HG0YUqLlF"
   },
   "source": [
    "## PAL Math Chain\n",
    "\n",
    "move to experimental"
   ]
  },
  {
   "cell_type": "code",
   "execution_count": null,
   "metadata": {
    "id": "ZF-jpK_XqPK0"
   },
   "outputs": [],
   "source": [
    "from langchain.chains import PALChain"
   ]
  },
  {
   "cell_type": "code",
   "execution_count": null,
   "metadata": {
    "id": "Ggg2goAsqX2F"
   },
   "outputs": [],
   "source": [
    "llm = OpenAI(model_name='code-davinci-002',\n",
    "             temperature=0,\n",
    "             max_tokens=512)"
   ]
  },
  {
   "cell_type": "code",
   "execution_count": null,
   "metadata": {
    "id": "d7QPImg8qX9F"
   },
   "outputs": [],
   "source": [
    "pal_chain = PALChain.from_math_prompt(llm, verbose=True)"
   ]
  },
  {
   "cell_type": "code",
   "execution_count": null,
   "metadata": {
    "id": "bqHtkj5wqYCZ"
   },
   "outputs": [],
   "source": [
    "question = \"Jan has three times the number of pets as Marcia. Marcia has two more pets than Cindy. If Cindy has four pets, how many total pets do the three have?\""
   ]
  },
  {
   "cell_type": "code",
   "execution_count": null,
   "metadata": {
    "id": "2NMqJo2zrYdf"
   },
   "outputs": [],
   "source": [
    "question_02= \"The cafeteria had 23 apples. If they used 20 for lunch and bought 6 more, how many apples do they have?\""
   ]
  },
  {
   "cell_type": "code",
   "execution_count": null,
   "metadata": {
    "colab": {
     "base_uri": "https://localhost:8080/",
     "height": 261
    },
    "id": "ZOlbkO5Kqv4k",
    "outputId": "18721070-fe09-48f5-8505-03fe0787aa29"
   },
   "outputs": [
    {
     "name": "stdout",
     "output_type": "stream",
     "text": [
      "\n",
      "\n",
      "\u001b[1m> Entering new PALChain chain...\u001b[0m\n",
      "\u001b[32;1m\u001b[1;3mdef solution():\n",
      "    \"\"\"The cafeteria had 23 apples. If they used 20 for lunch and bought 6 more, how many apples do they have?\"\"\"\n",
      "    apples_initial = 23\n",
      "    apples_used = 20\n",
      "    apples_bought = 6\n",
      "    apples_left = apples_initial - apples_used + apples_bought\n",
      "    result = apples_left\n",
      "    return result\u001b[0m\n",
      "\n",
      "\u001b[1m> Finished chain.\u001b[0m\n"
     ]
    },
    {
     "data": {
      "application/vnd.google.colaboratory.intrinsic+json": {
       "type": "string"
      },
      "text/plain": [
       "'9'"
      ]
     },
     "execution_count": 47,
     "metadata": {},
     "output_type": "execute_result"
    }
   ],
   "source": [
    "pal_chain.run(question_02)"
   ]
  },
  {
   "cell_type": "markdown",
   "metadata": {
    "id": "xidOhWp7rk_5"
   },
   "source": [
    "## API Chains - OpenMeteo - Weather information\n",
    "\n",
    "can throw errors based on API return length"
   ]
  },
  {
   "cell_type": "code",
   "execution_count": null,
   "metadata": {
    "id": "8p96niVlRPh8"
   },
   "outputs": [],
   "source": [
    "from langchain import OpenAI\n",
    "from langchain.chains.api.prompt import API_RESPONSE_PROMPT\n",
    "\n",
    "from langchain.chains import APIChain\n",
    "from langchain.prompts.prompt import PromptTemplate\n"
   ]
  },
  {
   "cell_type": "code",
   "execution_count": null,
   "metadata": {
    "id": "BsPzhnj_RUPy"
   },
   "outputs": [],
   "source": [
    "llm = OpenAI(temperature=0,\n",
    "             max_tokens=100)"
   ]
  },
  {
   "cell_type": "code",
   "execution_count": null,
   "metadata": {
    "id": "THJPYYB_cD8U"
   },
   "outputs": [],
   "source": [
    "from langchain.chains.api import open_meteo_docs\n",
    "chain_new = APIChain.from_llm_and_api_docs(llm,\n",
    "                                           open_meteo_docs.OPEN_METEO_DOCS,\n",
    "                                           verbose=True)"
   ]
  },
  {
   "cell_type": "code",
   "execution_count": null,
   "metadata": {
    "colab": {
     "base_uri": "https://localhost:8080/",
     "height": 177
    },
    "id": "mkfkkjpzcKym",
    "outputId": "1a52f5b8-43e7-4e31-a5a0-a211b84c01fb"
   },
   "outputs": [
    {
     "name": "stdout",
     "output_type": "stream",
     "text": [
      "\n",
      "\n",
      "\u001b[1m> Entering new APIChain chain...\u001b[0m\n",
      "\u001b[32;1m\u001b[1;3mhttps://api.open-meteo.com/v1/forecast?latitude=1.3&longitude=103.9&hourly=temperature_2m&current_weather=true&temperature_unit=celsius\u001b[0m\n",
      "\u001b[33;1m\u001b[1;3m{\"latitude\":1.375,\"longitude\":103.875,\"generationtime_ms\":0.38802623748779297,\"utc_offset_seconds\":0,\"timezone\":\"GMT\",\"timezone_abbreviation\":\"GMT\",\"elevation\":6.0,\"current_weather\":{\"temperature\":26.1,\"windspeed\":10.5,\"winddirection\":16.0,\"weathercode\":3,\"time\":\"2023-02-22T14:00\"},\"hourly_units\":{\"time\":\"iso8601\",\"temperature_2m\":\"°C\"},\"hourly\":{\"time\":[\"2023-02-22T00:00\",\"2023-02-22T01:00\",\"2023-02-22T02:00\",\"2023-02-22T03:00\",\"2023-02-22T04:00\",\"2023-02-22T05:00\",\"2023-02-22T06:00\",\"2023-02-22T07:00\",\"2023-02-22T08:00\",\"2023-02-22T09:00\",\"2023-02-22T10:00\",\"2023-02-22T11:00\",\"2023-02-22T12:00\",\"2023-02-22T13:00\",\"2023-02-22T14:00\",\"2023-02-22T15:00\",\"2023-02-22T16:00\",\"2023-02-22T17:00\",\"2023-02-22T18:00\",\"2023-02-22T19:00\",\"2023-02-22T20:00\",\"2023-02-22T21:00\",\"2023-02-22T22:00\",\"2023-02-22T23:00\",\"2023-02-23T00:00\",\"2023-02-23T01:00\",\"2023-02-23T02:00\",\"2023-02-23T03:00\",\"2023-02-23T04:00\",\"2023-02-23T05:00\",\"2023-02-23T06:00\",\"2023-02-23T07:00\",\"2023-02-23T08:00\",\"2023-02-23T09:00\",\"2023-02-23T10:00\",\"2023-02-23T11:00\",\"2023-02-23T12:00\",\"2023-02-23T13:00\",\"2023-02-23T14:00\",\"2023-02-23T15:00\",\"2023-02-23T16:00\",\"2023-02-23T17:00\",\"2023-02-23T18:00\",\"2023-02-23T19:00\",\"2023-02-23T20:00\",\"2023-02-23T21:00\",\"2023-02-23T22:00\",\"2023-02-23T23:00\",\"2023-02-24T00:00\",\"2023-02-24T01:00\",\"2023-02-24T02:00\",\"2023-02-24T03:00\",\"2023-02-24T04:00\",\"2023-02-24T05:00\",\"2023-02-24T06:00\",\"2023-02-24T07:00\",\"2023-02-24T08:00\",\"2023-02-24T09:00\",\"2023-02-24T10:00\",\"2023-02-24T11:00\",\"2023-02-24T12:00\",\"2023-02-24T13:00\",\"2023-02-24T14:00\",\"2023-02-24T15:00\",\"2023-02-24T16:00\",\"2023-02-24T17:00\",\"2023-02-24T18:00\",\"2023-02-24T19:00\",\"2023-02-24T20:00\",\"2023-02-24T21:00\",\"2023-02-24T22:00\",\"2023-02-24T23:00\",\"2023-02-25T00:00\",\"2023-02-25T01:00\",\"2023-02-25T02:00\",\"2023-02-25T03:00\",\"2023-02-25T04:00\",\"2023-02-25T05:00\",\"2023-02-25T06:00\",\"2023-02-25T07:00\",\"2023-02-25T08:00\",\"2023-02-25T09:00\",\"2023-02-25T10:00\",\"2023-02-25T11:00\",\"2023-02-25T12:00\",\"2023-02-25T13:00\",\"2023-02-25T14:00\",\"2023-02-25T15:00\",\"2023-02-25T16:00\",\"2023-02-25T17:00\",\"2023-02-25T18:00\",\"2023-02-25T19:00\",\"2023-02-25T20:00\",\"2023-02-25T21:00\",\"2023-02-25T22:00\",\"2023-02-25T23:00\",\"2023-02-26T00:00\",\"2023-02-26T01:00\",\"2023-02-26T02:00\",\"2023-02-26T03:00\",\"2023-02-26T04:00\",\"2023-02-26T05:00\",\"2023-02-26T06:00\",\"2023-02-26T07:00\",\"2023-02-26T08:00\",\"2023-02-26T09:00\",\"2023-02-26T10:00\",\"2023-02-26T11:00\",\"2023-02-26T12:00\",\"2023-02-26T13:00\",\"2023-02-26T14:00\",\"2023-02-26T15:00\",\"2023-02-26T16:00\",\"2023-02-26T17:00\",\"2023-02-26T18:00\",\"2023-02-26T19:00\",\"2023-02-26T20:00\",\"2023-02-26T21:00\",\"2023-02-26T22:00\",\"2023-02-26T23:00\",\"2023-02-27T00:00\",\"2023-02-27T01:00\",\"2023-02-27T02:00\",\"2023-02-27T03:00\",\"2023-02-27T04:00\",\"2023-02-27T05:00\",\"2023-02-27T06:00\",\"2023-02-27T07:00\",\"2023-02-27T08:00\",\"2023-02-27T09:00\",\"2023-02-27T10:00\",\"2023-02-27T11:00\",\"2023-02-27T12:00\",\"2023-02-27T13:00\",\"2023-02-27T14:00\",\"2023-02-27T15:00\",\"2023-02-27T16:00\",\"2023-02-27T17:00\",\"2023-02-27T18:00\",\"2023-02-27T19:00\",\"2023-02-27T20:00\",\"2023-02-27T21:00\",\"2023-02-27T22:00\",\"2023-02-27T23:00\",\"2023-02-28T00:00\",\"2023-02-28T01:00\",\"2023-02-28T02:00\",\"2023-02-28T03:00\",\"2023-02-28T04:00\",\"2023-02-28T05:00\",\"2023-02-28T06:00\",\"2023-02-28T07:00\",\"2023-02-28T08:00\",\"2023-02-28T09:00\",\"2023-02-28T10:00\",\"2023-02-28T11:00\",\"2023-02-28T12:00\",\"2023-02-28T13:00\",\"2023-02-28T14:00\",\"2023-02-28T15:00\",\"2023-02-28T16:00\",\"2023-02-28T17:00\",\"2023-02-28T18:00\",\"2023-02-28T19:00\",\"2023-02-28T20:00\",\"2023-02-28T21:00\",\"2023-02-28T22:00\",\"2023-02-28T23:00\"],\"temperature_2m\":[25.1,26.0,27.4,28.4,29.3,29.9,30.0,29.5,29.6,29.0,28.3,27.6,26.8,26.3,26.1,25.9,25.7,25.6,25.4,25.2,25.1,25.0,24.9,24.8,25.0,26.2,27.8,29.3,30.2,31.0,30.9,31.0,30.9,30.2,29.4,28.4,27.4,26.7,26.3,25.9,25.6,25.5,25.4,25.3,25.2,25.0,24.9,24.9,25.1,26.1,27.5,29.2,30.4,31.1,31.3,31.7,31.4,31.0,29.9,28.6,27.5,26.8,26.4,26.0,25.7,25.4,25.2,25.1,25.0,24.9,24.9,25.0,25.2,26.2,27.6,29.1,29.7,29.9,30.1,29.7,29.0,28.6,27.8,27.3,26.5,26.1,26.0,25.8,25.7,25.6,25.5,25.5,25.4,25.4,25.3,25.2,25.3,25.8,26.4,27.1,27.4,27.5,27.6,27.5,27.2,26.8,26.5,26.1,25.7,25.5,25.4,25.3,25.1,25.0,24.9,24.8,24.8,24.9,24.8,24.8,25.0,25.5,26.1,26.9,27.2,27.5,27.6,28.0,27.8,27.4,27.1,26.6,26.1,25.9,25.8,25.6,25.4,25.3,25.1,25.1,25.0,25.0,24.9,24.9,25.0,25.4,25.9,26.6,27.0,27.3,27.6,27.5,27.2,26.8,26.4,26.1,25.7,25.5,25.4,25.3,25.2,25.1,25.0,24.9,24.9,24.9,24.9,24.9]}}\u001b[0m\n",
      "\n",
      "\u001b[1m> Finished chain.\u001b[0m\n"
     ]
    },
    {
     "data": {
      "application/vnd.google.colaboratory.intrinsic+json": {
       "type": "string"
      },
      "text/plain": [
       "' The temperature right now in Bedok, Singapore is 26.1 degrees Celcius.'"
      ]
     },
     "execution_count": 96,
     "metadata": {},
     "output_type": "execute_result"
    }
   ],
   "source": [
    "chain_new.run('What is the temperature like right now in Bedok, Singapore in degrees Celcius?')"
   ]
  },
  {
   "cell_type": "code",
   "execution_count": null,
   "metadata": {
    "colab": {
     "base_uri": "https://localhost:8080/",
     "height": 194
    },
    "id": "0qziCnvURUkI",
    "outputId": "a7af19be-df86-4f2a-adfa-1e6f373ec598"
   },
   "outputs": [
    {
     "name": "stdout",
     "output_type": "stream",
     "text": [
      "\n",
      "\n",
      "\u001b[1m> Entering new APIChain chain...\u001b[0m\n",
      "\u001b[32;1m\u001b[1;3mhttps://api.open-meteo.com/v1/forecast?latitude=1.3521&longitude=103.8198&current_weather=true&rain=true\u001b[0m\n",
      "\u001b[33;1m\u001b[1;3m{\"latitude\":1.375,\"longitude\":103.875,\"generationtime_ms\":0.41103363037109375,\"utc_offset_seconds\":0,\"timezone\":\"GMT\",\"timezone_abbreviation\":\"GMT\",\"elevation\":46.0,\"current_weather\":{\"temperature\":25.8,\"windspeed\":10.5,\"winddirection\":16.0,\"weathercode\":3,\"time\":\"2023-02-22T14:00\"}}\u001b[0m\n",
      "\n",
      "\u001b[1m> Finished chain.\u001b[0m\n"
     ]
    },
    {
     "data": {
      "application/vnd.google.colaboratory.intrinsic+json": {
       "type": "string"
      },
      "text/plain": [
       "' It is currently 25.8°C in Singapore with a windspeed of 10.5 km/h and a winddirection of 16°. The weathercode is 3, which indicates that it is currently raining in Singapore.'"
      ]
     },
     "execution_count": 97,
     "metadata": {},
     "output_type": "execute_result"
    }
   ],
   "source": [
    "chain_new.run('Is it raining in Singapore?')"
   ]
  },
  {
   "cell_type": "code",
   "execution_count": null,
   "metadata": {
    "id": "LcZKznlUTyJH"
   },
   "outputs": [],
   "source": [
    "# chain_new."
   ]
  },
  {
   "cell_type": "code",
   "execution_count": null,
   "metadata": {
    "id": "zN6kl7u7eK1l"
   },
   "outputs": [],
   "source": []
  }
 ],
 "metadata": {
  "colab": {
   "provenance": []
  },
  "kernelspec": {
   "display_name": "Python 3 (ipykernel)",
   "language": "python",
   "name": "python3"
  },
  "language_info": {
   "codemirror_mode": {
    "name": "ipython",
    "version": 3
   },
   "file_extension": ".py",
   "mimetype": "text/x-python",
   "name": "python",
   "nbconvert_exporter": "python",
   "pygments_lexer": "ipython3",
   "version": "3.9.18"
  }
 },
 "nbformat": 4,
 "nbformat_minor": 4
}
